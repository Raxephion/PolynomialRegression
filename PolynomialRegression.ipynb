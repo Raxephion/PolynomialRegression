{
 "cells": [
  {
   "cell_type": "code",
   "execution_count": 1,
   "id": "cecec880-4d6b-4d50-954c-43ebe23327af",
   "metadata": {},
   "outputs": [
    {
     "data": {
      "image/png": "[encoded data removed]",
      "text/plain": [
       "<Figure size 432x288 with 1 Axes>"
      ]
     },
     "metadata": {
      "needs_background": "light"
     },
     "output_type": "display_data"
    }
   ],
   "source": [
    "import matplotlib.pyplot as plt\n",
    "import seaborn as sns\n",
    "\n",
    "\n",
    "x=[1,2,3,5,6,7,8,9,10,12,13,14,15,16,18,19,21,22]\n",
    "y=[100,90,80,60,60,55,60,65,70,70,75,76,78,79,90,99,99,100]\n",
    "\n",
    "plt.scatter(x,y)\n",
    "plt.show()\n"
   ]
  },
  {
   "cell_type": "code",
   "execution_count": 3,
   "id": "5ca8ba9d-9aa7-43d1-9863-ca49f7970bc6",
   "metadata": {},
   "outputs": [
    {
     "data": {
      "image/png": "[encoded data removed]",
      "text/plain": [
       "<Figure size 432x288 with 1 Axes>"
      ]
     },
     "metadata": {
      "needs_background": "light"
     },
     "output_type": "display_data"
    }
   ],
   "source": [
    "import numpy\n",
    "\n",
    "import matplotlib.pyplot as plt\n",
    "\n",
    "x=[1,2,3,5,6,7,8,9,10,12,13,14,15,16,18,19,21,22]           #Creating array for X-axis\n",
    "y=[100,90,80,60,60,55,60,65,70,70,75,76,78,79,90,99,99,100] #Creating array for Y-axis\n",
    "\n",
    "mymodel = numpy.poly1d(numpy.polyfit(x,y,3))    #Numpy has builtin method for polynomial model\n",
    "\n",
    "myline = numpy.linspace(1,22,100)   #Specify how the line will display - start pos 1, end pos 22\n",
    "\n",
    "plt.scatter(x,y)                #Draw original scatter plot\n",
    "plt.plot(myline, mymodel(myline))   #Draw line of polynomial regression\n",
    "plt.show()          #Display the diagram"
   ]
  },
  {
   "cell_type": "code",
   "execution_count": 4,
   "id": "bb149992-6d26-42a2-987e-37ef3e75f27b",
   "metadata": {},
   "outputs": [
    {
     "name": "stdout",
     "output_type": "stream",
     "text": [
      "0.9432150416451027\n"
     ]
    }
   ],
   "source": [
    "import numpy\n",
    "from sklearn.metrics import r2_score\n",
    "\n",
    "\n",
    "x=[1,2,3,5,6,7,8,9,10,12,13,14,15,16,18,19,21,22]           #Creating array for X-axis\n",
    "y=[100,90,80,60,60,55,60,65,70,70,75,76,78,79,90,99,99,100] #Creating array for Y-axis\n",
    "\n",
    "mymodel = numpy.poly1d(numpy.polyfit(x,y,3))    #Numpy has builtin method for polynomial model\n",
    "\n",
    "print(r2_score(y, mymodel(x)))"
   ]
  },
  {
   "cell_type": "code",
   "execution_count": 3,
   "id": "aa81d728-668f-4789-adc9-a3db6a7e167d",
   "metadata": {},
   "outputs": [
    {
     "name": "stdout",
     "output_type": "stream",
     "text": [
      "99.2412722900502\n"
     ]
    }
   ],
   "source": [
    "import numpy\n",
    "from sklearn.metrics import r2_score\n",
    "\n",
    "\n",
    "x=[1,2,3,5,6,7,8,9,10,12,13,14,15,16,18,19,21,22]           #Creating array for X-axis\n",
    "y=[100,90,80,60,60,55,60,65,70,70,75,76,78,79,90,99,99,100] #Creating array for Y-axis\n",
    "\n",
    "mymodel = numpy.poly1d(numpy.polyfit(x,y,3))    #Numpy has builtin method for polynomial model\n",
    "\n",
    "\n",
    "speed = mymodel(22)\n",
    "print(speed)"
   ]
  },
  {
   "cell_type": "code",
   "execution_count": null,
   "id": "aa411fe6-e27a-47f2-ba1c-d8dbd76deea2",
   "metadata": {},
   "outputs": [],
   "source": []
  }
 ],
 "metadata": {
  "kernelspec": {
   "display_name": "Python 3 (ipykernel)",
   "language": "python",
   "name": "python3"
  },
  "language_info": {
   "codemirror_mode": {
    "name": "ipython",
    "version": 3
   },
   "file_extension": ".py",
   "mimetype": "text/x-python",
   "name": "python",
   "nbconvert_exporter": "python",
   "pygments_lexer": "ipython3",
   "version": "3.9.12"
  }
 },
 "nbformat": 4,
 "nbformat_minor": 5
}
